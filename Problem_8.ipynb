{
  "nbformat": 4,
  "nbformat_minor": 0,
  "metadata": {
    "colab": {
      "provenance": [],
      "authorship_tag": "ABX9TyOtCddgcbSc7md/M8AiFkRt",
      "include_colab_link": true
    },
    "kernelspec": {
      "name": "python3",
      "display_name": "Python 3"
    },
    "language_info": {
      "name": "python"
    }
  },
  "cells": [
    {
      "cell_type": "markdown",
      "metadata": {
        "id": "view-in-github",
        "colab_type": "text"
      },
      "source": [
        "<a href=\"https://colab.research.google.com/github/Mahesh1907/Java_Assignment/blob/main/Problem_8.ipynb\" target=\"_parent\"><img src=\"https://colab.research.google.com/assets/colab-badge.svg\" alt=\"Open In Colab\"/></a>"
      ]
    },
    {
      "cell_type": "code",
      "execution_count": null,
      "metadata": {
        "id": "8L8Mb1mNZbT9"
      },
      "outputs": [],
      "source": [
        "package java_assignment;\n",
        "public class Problem_8 \n",
        " {\n",
        "    public static void main(String[] args) \n",
        "    {\n",
        "        String a = \"Welcome To Java\";\n",
        "        int spaceCount = 0;\n",
        "        // Count the number of spaces\n",
        "        for (int i = 0; i < a.length(); i++)\n",
        "        {\n",
        "            if (a.charAt(i) == ' ')\n",
        "            {\n",
        "                spaceCount++;\n",
        "            }\n",
        "        }\n",
        "        // Create an array by splitting the string at spaces\n",
        "        String[] words = a.split(\" \");\n",
        "        // Print the word at index 0 (which is \"Welcome\")\n",
        "        System.out.println(\"Number of spaces: \" + spaceCount);\n",
        "        System.out.println(\"First word: \" + words[0]);\n",
        "    }\n",
        "}"
      ]
    },
    {
      "cell_type": "markdown",
      "source": [
        "***Output:***\n",
        "\n",
        "Number of spaces: 2\n",
        "\n",
        "First word: Welcome"
      ],
      "metadata": {
        "id": "JCYrgx43agSA"
      }
    }
  ]
}