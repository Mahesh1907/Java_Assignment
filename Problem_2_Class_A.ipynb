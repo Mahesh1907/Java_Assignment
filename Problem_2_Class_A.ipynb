{
  "nbformat": 4,
  "nbformat_minor": 0,
  "metadata": {
    "colab": {
      "provenance": [],
      "authorship_tag": "ABX9TyNHfq1eOdSmeXR+vjYiyxBQ",
      "include_colab_link": true
    },
    "kernelspec": {
      "name": "python3",
      "display_name": "Python 3"
    },
    "language_info": {
      "name": "python"
    }
  },
  "cells": [
    {
      "cell_type": "markdown",
      "metadata": {
        "id": "view-in-github",
        "colab_type": "text"
      },
      "source": [
        "<a href=\"https://colab.research.google.com/github/Mahesh1907/Java_Assignment/blob/main/Problem_2_Class_A.ipynb\" target=\"_parent\"><img src=\"https://colab.research.google.com/assets/colab-badge.svg\" alt=\"Open In Colab\"/></a>"
      ]
    },
    {
      "cell_type": "code",
      "execution_count": null,
      "metadata": {
        "id": "w8KVKEh1TRN6"
      },
      "outputs": [],
      "source": [
        "package java_assignment;\n",
        "public class Problem_2_Class_A\n",
        "    {\n",
        "        public int variable;\n",
        "        public Problem_2_Class_A(int value)\n",
        "        {\n",
        "            this.variable = value;\n",
        "        }\n",
        "        public int getVariable() {\n",
        "            return variable;\n",
        "        }\n",
        "    }"
      ]
    }
  ]
}