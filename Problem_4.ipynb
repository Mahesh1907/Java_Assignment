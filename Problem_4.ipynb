{
  "nbformat": 4,
  "nbformat_minor": 0,
  "metadata": {
    "colab": {
      "provenance": [],
      "authorship_tag": "ABX9TyOI0bO5ULRSO8e4wdXD0e/t",
      "include_colab_link": true
    },
    "kernelspec": {
      "name": "python3",
      "display_name": "Python 3"
    },
    "language_info": {
      "name": "python"
    }
  },
  "cells": [
    {
      "cell_type": "markdown",
      "metadata": {
        "id": "view-in-github",
        "colab_type": "text"
      },
      "source": [
        "<a href=\"https://colab.research.google.com/github/Mahesh1907/Java_Assignment/blob/main/Problem_4.ipynb\" target=\"_parent\"><img src=\"https://colab.research.google.com/assets/colab-badge.svg\" alt=\"Open In Colab\"/></a>"
      ]
    },
    {
      "cell_type": "code",
      "execution_count": null,
      "metadata": {
        "id": "pYLuev-4Wzca"
      },
      "outputs": [],
      "source": [
        "package java_assignment;\n",
        "public class Problem_4 \n",
        " {\n",
        "    public static int performOperation(int num1, int num2, String operation)\n",
        "    {\n",
        "        int result = 0;\n",
        "        if (operation.equalsIgnoreCase(\"add\"))\n",
        "        {\n",
        "            result = num1 + num2;\n",
        "        } else if (operation.equalsIgnoreCase(\"subs\"))\n",
        "        {\n",
        "            result = num1 - num2;\n",
        "        } else if (operation.equalsIgnoreCase(\"multiplication\"))\n",
        "        {\n",
        "            result = num1 * num2;\n",
        "        } else if (operation.equalsIgnoreCase(\"division\"))\n",
        "        {\n",
        "            if (num2 != 0)\n",
        "            {\n",
        "                result = num1 / num2;\n",
        "            }\n",
        "            else\n",
        "            {\n",
        "                throw new ArithmeticException(\"Division by zero is not allowed!\");\n",
        "            }\n",
        "        } \n",
        "            else\n",
        "            {\n",
        "            throw new IllegalArgumentException(\"Invalid operation!\");\n",
        "        }\n",
        "        return result;\n",
        "    }\n",
        "    public static void main(String[] args)\n",
        "    {\n",
        "        int num1 = 10;\n",
        "        int num2 = 5;\n",
        "        String operation = \"division\";\n",
        "        int result = performOperation(num1, num2, operation);\n",
        "        System.out.println(\"Result: \" + result);\n",
        "    }\n",
        "}"
      ]
    },
    {
      "cell_type": "markdown",
      "source": [
        "***Output:***\n",
        "\n",
        "Result: 2"
      ],
      "metadata": {
        "id": "fRq5ToPTctLh"
      }
    }
  ]
}