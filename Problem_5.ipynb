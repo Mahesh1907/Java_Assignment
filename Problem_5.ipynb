{
  "nbformat": 4,
  "nbformat_minor": 0,
  "metadata": {
    "colab": {
      "provenance": [],
      "authorship_tag": "ABX9TyOA9ves0OWB5q+gjotPGvKZ",
      "include_colab_link": true
    },
    "kernelspec": {
      "name": "python3",
      "display_name": "Python 3"
    },
    "language_info": {
      "name": "python"
    }
  },
  "cells": [
    {
      "cell_type": "markdown",
      "metadata": {
        "id": "view-in-github",
        "colab_type": "text"
      },
      "source": [
        "<a href=\"https://colab.research.google.com/github/Mahesh1907/Java_Assignment/blob/main/Problem_5.ipynb\" target=\"_parent\"><img src=\"https://colab.research.google.com/assets/colab-badge.svg\" alt=\"Open In Colab\"/></a>"
      ]
    },
    {
      "cell_type": "code",
      "execution_count": null,
      "metadata": {
        "id": "bW5Rta2xXz4o"
      },
      "outputs": [],
      "source": [
        "package java_assignment;\n",
        "public class Problem_5\n",
        " {\n",
        "    public static void main(String[] args)\n",
        "    {\n",
        "        for (int i = 500; i <= 1000; i++)\n",
        "        {\n",
        "            if (i == 808)\n",
        "            {\n",
        "                System.out.println(\"Number found: \" + i);\n",
        "            }\n",
        "        }\n",
        "    }\n",
        "}"
      ]
    }
  ]
}