{
  "nbformat": 4,
  "nbformat_minor": 0,
  "metadata": {
    "colab": {
      "provenance": [],
      "authorship_tag": "ABX9TyODcoXYvrxAyOz6+CdS2sRJ",
      "include_colab_link": true
    },
    "kernelspec": {
      "name": "python3",
      "display_name": "Python 3"
    },
    "language_info": {
      "name": "python"
    }
  },
  "cells": [
    {
      "cell_type": "markdown",
      "metadata": {
        "id": "view-in-github",
        "colab_type": "text"
      },
      "source": [
        "<a href=\"https://colab.research.google.com/github/Mahesh1907/Java_Assignment/blob/main/Problem_1.ipynb\" target=\"_parent\"><img src=\"https://colab.research.google.com/assets/colab-badge.svg\" alt=\"Open In Colab\"/></a>"
      ]
    },
    {
      "cell_type": "code",
      "execution_count": null,
      "metadata": {
        "id": "3p0z2zQ-qLCa"
      },
      "outputs": [],
      "source": [
        "package java_assignment;\n",
        "\n",
        "public class Problem_1\n",
        "    {\n",
        "        public static void main(String[] args) throws Exception\n",
        "        {\n",
        "            float a = 8.6f;\n",
        "            float b = 9.7f;\n",
        "            float c = a+b;\n",
        "            System.out.println(\"Addition of two float numbers is \"+c);\n",
        "        }\n",
        "\n",
        "}"
      ]
    }
  ]
}