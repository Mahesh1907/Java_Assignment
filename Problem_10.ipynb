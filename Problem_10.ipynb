{
  "nbformat": 4,
  "nbformat_minor": 0,
  "metadata": {
    "colab": {
      "provenance": [],
      "authorship_tag": "ABX9TyPSJ9vC8dSLrNwGPi62o01q",
      "include_colab_link": true
    },
    "kernelspec": {
      "name": "python3",
      "display_name": "Python 3"
    },
    "language_info": {
      "name": "python"
    }
  },
  "cells": [
    {
      "cell_type": "markdown",
      "metadata": {
        "id": "view-in-github",
        "colab_type": "text"
      },
      "source": [
        "<a href=\"https://colab.research.google.com/github/Mahesh1907/Java_Assignment/blob/main/Problem_10.ipynb\" target=\"_parent\"><img src=\"https://colab.research.google.com/assets/colab-badge.svg\" alt=\"Open In Colab\"/></a>"
      ]
    },
    {
      "cell_type": "markdown",
      "source": [
        "In Java, private data members of a class are not directly accessible from other classes. However, you can provide access to private data using getter and setter methods or by using reflection. "
      ],
      "metadata": {
        "id": "R9xnuATmex2j"
      }
    },
    {
      "cell_type": "code",
      "execution_count": null,
      "metadata": {
        "id": "SdVQ9rzAeSv_"
      },
      "outputs": [],
      "source": [
        "package java_assignment;\n",
        "public class Problem_10_1 {\n",
        "    private int privateData;\n",
        "    // Getter method to access the private data\n",
        "    public int getPrivateData() {\n",
        "        return privateData;\n",
        "    }\n",
        "    // Setter method to modify the private data\n",
        "    public void setPrivateData(int value) {\n",
        "        privateData = value;\n",
        "    }\n",
        "}"
      ]
    },
    {
      "cell_type": "code",
      "source": [
        "package java_assignment;\n",
        "public class Problem_10_2 {\n",
        "    public static void main(String[] args) {\n",
        "        Problem_10_1 myObject = new Problem_10_1();\n",
        "        myObject.setPrivateData(42);\n",
        "        int accessedData = myObject.getPrivateData();\n",
        "        System.out.println(\"Accessed private data: \" + accessedData);\n",
        "    }\n",
        "}"
      ],
      "metadata": {
        "id": "q6-0lgEEekua"
      },
      "execution_count": null,
      "outputs": []
    },
    {
      "cell_type": "code",
      "source": [
        "package java_assignment;\n",
        "import java.lang.reflect.Field;\n",
        "public class Problem_10_3 {\n",
        "    protected int privateData;\n",
        "}"
      ],
      "metadata": {
        "id": "Mn3_knu7enHx"
      },
      "execution_count": null,
      "outputs": []
    },
    {
      "cell_type": "code",
      "source": [
        "package java_assignment;\n",
        "import java.lang.reflect.Field;\n",
        "public class Problem_10_3_1 {\n",
        "    public static void main(String[] args) throws NoSuchFieldException, IllegalAccessException {\n",
        "        Problem_10_3 myObject = new Problem_10_3();\n",
        "        myObject.privateData = 42;\n",
        "        Field privateDataField = myObject.getClass().getDeclaredField(\"privateData\");\n",
        "        privateDataField.setAccessible(true);\n",
        "        int accessedData = (int) privateDataField.get(myObject);\n",
        "        System.out.println(\"Accessed private data: \" + accessedData);\n",
        "    }\n",
        "}"
      ],
      "metadata": {
        "id": "tZcJCWWWeo2X"
      },
      "execution_count": null,
      "outputs": []
    },
    {
      "cell_type": "markdown",
      "source": [
        "***Output:***\n",
        "\n",
        "Accessed private data: 42"
      ],
      "metadata": {
        "id": "8jvCOawUeqRp"
      }
    }
  ]
}