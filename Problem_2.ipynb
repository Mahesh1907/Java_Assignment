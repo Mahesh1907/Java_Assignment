{
  "nbformat": 4,
  "nbformat_minor": 0,
  "metadata": {
    "colab": {
      "provenance": [],
      "authorship_tag": "ABX9TyNi0/u+5R1APaumYYvq5cvY",
      "include_colab_link": true
    },
    "kernelspec": {
      "name": "python3",
      "display_name": "Python 3"
    },
    "language_info": {
      "name": "python"
    }
  },
  "cells": [
    {
      "cell_type": "markdown",
      "metadata": {
        "id": "view-in-github",
        "colab_type": "text"
      },
      "source": [
        "<a href=\"https://colab.research.google.com/github/Mahesh1907/Java_Assignment/blob/main/Problem_2.ipynb\" target=\"_parent\"><img src=\"https://colab.research.google.com/assets/colab-badge.svg\" alt=\"Open In Colab\"/></a>"
      ]
    },
    {
      "cell_type": "code",
      "execution_count": null,
      "metadata": {
        "id": "w8KVKEh1TRN6"
      },
      "outputs": [],
      "source": [
        "package java_assignment;\n",
        "public class Problem_2_Class_A\n",
        "    {\n",
        "        public int variable;\n",
        "        public Problem_2_Class_A(int value)\n",
        "        {\n",
        "            this.variable = value;\n",
        "        }\n",
        "        public int getVariable() {\n",
        "            return variable;\n",
        "        }\n",
        "    }"
      ]
    },
    {
      "cell_type": "code",
      "source": [
        "package java_assignment;\n",
        "public class Problem_2_Class_B extends Problem_2_Class_A\n",
        "    {\n",
        "    public Problem_2_Class_B(int value)\n",
        "    {\n",
        "        super(value);\n",
        "    }\n",
        "    public static void main(String[] args) {\n",
        "        Problem_2_Class_B instanceB = new Problem_2_Class_B(10);\n",
        "        int variableValue = instanceB.getVariable();\n",
        "        System.out.println(\"Value of variable in Class B: \" + variableValue);\n",
        "    }\n",
        "}"
      ],
      "metadata": {
        "id": "Q7Ldp0XQUBF3"
      },
      "execution_count": null,
      "outputs": []
    }
  ]
}