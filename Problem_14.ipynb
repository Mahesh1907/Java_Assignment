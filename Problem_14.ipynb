{
  "nbformat": 4,
  "nbformat_minor": 0,
  "metadata": {
    "colab": {
      "provenance": [],
      "authorship_tag": "ABX9TyPZD3x7YbmzGE50zWAylOO9",
      "include_colab_link": true
    },
    "kernelspec": {
      "name": "python3",
      "display_name": "Python 3"
    },
    "language_info": {
      "name": "python"
    }
  },
  "cells": [
    {
      "cell_type": "markdown",
      "metadata": {
        "id": "view-in-github",
        "colab_type": "text"
      },
      "source": [
        "<a href=\"https://colab.research.google.com/github/Mahesh1907/Java_Assignment/blob/main/Problem_14.ipynb\" target=\"_parent\"><img src=\"https://colab.research.google.com/assets/colab-badge.svg\" alt=\"Open In Colab\"/></a>"
      ]
    },
    {
      "cell_type": "code",
      "execution_count": null,
      "metadata": {
        "id": "VHXYVLuLhK9N"
      },
      "outputs": [],
      "source": [
        "package java_assignment;\n",
        "import java.time.LocalDate;\n",
        "import java.time.format.DateTimeFormatter;\n",
        "public class Problem_14 {\n",
        "    public static void main(String[] args) {\n",
        "        String currentDate = getCurrentDateAsString();\n",
        "        System.out.println(\"Current Date: \" + currentDate);\n",
        "    }\n",
        "    public static String getCurrentDateAsString() {\n",
        "        LocalDate currentDate = LocalDate.now();\n",
        "        DateTimeFormatter formatter = DateTimeFormatter.ofPattern(\"dd-MM-yyyy\");\n",
        "        String formattedDate = currentDate.format(formatter);\n",
        "        return formattedDate;\n",
        "    }\n",
        "}"
      ]
    },
    {
      "cell_type": "markdown",
      "source": [
        "***Output:***\n",
        "\n",
        "Current Date: 05-06-2023"
      ],
      "metadata": {
        "id": "g1s1L4MmhOZX"
      }
    }
  ]
}