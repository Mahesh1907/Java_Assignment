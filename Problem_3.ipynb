{
  "nbformat": 4,
  "nbformat_minor": 0,
  "metadata": {
    "colab": {
      "provenance": [],
      "authorship_tag": "ABX9TyN6JK/cAYRWOihnMYoDsscT",
      "include_colab_link": true
    },
    "kernelspec": {
      "name": "python3",
      "display_name": "Python 3"
    },
    "language_info": {
      "name": "python"
    }
  },
  "cells": [
    {
      "cell_type": "markdown",
      "metadata": {
        "id": "view-in-github",
        "colab_type": "text"
      },
      "source": [
        "<a href=\"https://colab.research.google.com/github/Mahesh1907/Java_Assignment/blob/main/Problem_3.ipynb\" target=\"_parent\"><img src=\"https://colab.research.google.com/assets/colab-badge.svg\" alt=\"Open In Colab\"/></a>"
      ]
    },
    {
      "cell_type": "code",
      "execution_count": null,
      "metadata": {
        "id": "WqtMAy9HUt2i"
      },
      "outputs": [],
      "source": [
        "package java_assignment;\n",
        "public class Problem_3 extends Exception {\n",
        "    public Problem_3(String message) {\n",
        "        super(message);\n",
        "    }\n",
        "}"
      ]
    },
    {
      "cell_type": "code",
      "source": [
        "package java_assignment;\n",
        "class Problem_3_1 {\n",
        "    private int age;\n",
        "    public void setAge(int age) throws Problem_3 {\n",
        "        if (age < 25 || age > 55) {\n",
        "            throw new Problem_3(\"Invalid age! Age should be between 25 and 55.\");\n",
        "        }\n",
        "        this.age = age;\n",
        "    }\n",
        "    public int getAge() {\n",
        "        return age;\n",
        "    }\n",
        "}"
      ],
      "metadata": {
        "id": "X8jqaVsUU3yN"
      },
      "execution_count": null,
      "outputs": []
    },
    {
      "cell_type": "code",
      "source": [
        "package java_assignment;\n",
        "    public class Problem_3_2 {\n",
        "        public static void main(String[] args) {\n",
        "            Problem_3_1 person = new Problem_3_1();\n",
        "            try {\n",
        "                // Setting age below 25, which will throw an exception\n",
        "                person.setAge(20);\n",
        "            } catch (Problem_3 e) {\n",
        "                System.out.println(\"Error: \" + e.getMessage());\n",
        "            }\n",
        "            try {\n",
        "                // Setting age within the valid range\n",
        "                person.setAge(30);\n",
        "                System.out.println(\"Valid age: \" + person.getAge());\n",
        "            } catch (Problem_3 e) {\n",
        "                System.out.println(\"Error: \" + e.getMessage());\n",
        "            }\n",
        "            try {\n",
        "                // Setting age above 55, which will throw an exception\n",
        "                person.setAge(60);\n",
        "            } catch (Problem_3 e) {\n",
        "                System.out.println(\"Error: \" + e.getMessage());\n",
        "            }\n",
        "        }\n",
        "    }"
      ],
      "metadata": {
        "id": "6gEPngurVq7-"
      },
      "execution_count": null,
      "outputs": []
    },
    {
      "cell_type": "markdown",
      "source": [
        "***Output:***\n",
        "\n",
        "Error: Invalid age! Age should be between 25 and 55.\n",
        "\n",
        "Valid age: 30\n",
        "\n",
        "Error: Invalid age! Age should be between 25 and 55."
      ],
      "metadata": {
        "id": "pLvXsowvcYb_"
      }
    }
  ]
}