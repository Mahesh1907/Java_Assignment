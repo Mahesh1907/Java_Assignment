{
  "nbformat": 4,
  "nbformat_minor": 0,
  "metadata": {
    "colab": {
      "provenance": [],
      "authorship_tag": "ABX9TyNFlzAoYL/XiHGTlG02MJCk",
      "include_colab_link": true
    },
    "kernelspec": {
      "name": "python3",
      "display_name": "Python 3"
    },
    "language_info": {
      "name": "python"
    }
  },
  "cells": [
    {
      "cell_type": "markdown",
      "metadata": {
        "id": "view-in-github",
        "colab_type": "text"
      },
      "source": [
        "<a href=\"https://colab.research.google.com/github/Mahesh1907/Java_Assignment/blob/main/Problem_12.ipynb\" target=\"_parent\"><img src=\"https://colab.research.google.com/assets/colab-badge.svg\" alt=\"Open In Colab\"/></a>"
      ]
    },
    {
      "cell_type": "code",
      "execution_count": null,
      "metadata": {
        "id": "SZmxCEvhgLcZ"
      },
      "outputs": [],
      "source": [
        "package java_assignment;\n",
        "public class Problem_12 {\n",
        "    private static int objectCount = 0;\n",
        "    public Problem_12 () {\n",
        "        objectCount++;\n",
        "    }\n",
        "    public static int getObjectCount() {\n",
        "        return objectCount;\n",
        "    }\n",
        "    public static void main(String[] args) {\n",
        "        Problem_12  obj1 = new Problem_12 ();\n",
        "        Problem_12  obj2 = new Problem_12 ();\n",
        "        Problem_12  obj3 = new Problem_12 ();\n",
        "        int count = Problem_12 .getObjectCount();\n",
        "        System.out.println(\"Number of objects created: \" + count);\n",
        "    }\n",
        "}"
      ]
    },
    {
      "cell_type": "markdown",
      "source": [
        "***Output:***\n",
        "\n",
        "Number of objects created: 3"
      ],
      "metadata": {
        "id": "DPhmhMnjgRGl"
      }
    }
  ]
}