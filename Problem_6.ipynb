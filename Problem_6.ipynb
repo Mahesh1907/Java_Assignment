{
  "nbformat": 4,
  "nbformat_minor": 0,
  "metadata": {
    "colab": {
      "provenance": [],
      "authorship_tag": "ABX9TyMsxYiO7jea3Ru02aZvw57A",
      "include_colab_link": true
    },
    "kernelspec": {
      "name": "python3",
      "display_name": "Python 3"
    },
    "language_info": {
      "name": "python"
    }
  },
  "cells": [
    {
      "cell_type": "markdown",
      "metadata": {
        "id": "view-in-github",
        "colab_type": "text"
      },
      "source": [
        "<a href=\"https://colab.research.google.com/github/Mahesh1907/Java_Assignment/blob/main/Problem_6.ipynb\" target=\"_parent\"><img src=\"https://colab.research.google.com/assets/colab-badge.svg\" alt=\"Open In Colab\"/></a>"
      ]
    },
    {
      "cell_type": "code",
      "execution_count": null,
      "metadata": {
        "id": "siGHQp8BYRYy"
      },
      "outputs": [],
      "source": [
        "package java_assignment;\n",
        "import java.util.ArrayList;\n",
        "public class Problem_6\n",
        "{\n",
        "    public static void main(String[] args)\n",
        "    {\n",
        "        ArrayList<Integer> numbers = new ArrayList<>();\n",
        "        // Adding numbers from 200 to 500 into the ArrayList\n",
        "        for (int i = 200; i <= 500; i++)\n",
        "        {\n",
        "            numbers.add(i);\n",
        "        }\n",
        "        // Printing the ArrayList\n",
        "        for (int number : numbers)\n",
        "        {\n",
        "            System.out.println(number);\n",
        "        }\n",
        "    }\n",
        "}"
      ]
    }
  ]
}