{
  "nbformat": 4,
  "nbformat_minor": 0,
  "metadata": {
    "colab": {
      "provenance": [],
      "authorship_tag": "ABX9TyPbhKCMKG23UpihRLaczwPf",
      "include_colab_link": true
    },
    "kernelspec": {
      "name": "python3",
      "display_name": "Python 3"
    },
    "language_info": {
      "name": "python"
    }
  },
  "cells": [
    {
      "cell_type": "markdown",
      "metadata": {
        "id": "view-in-github",
        "colab_type": "text"
      },
      "source": [
        "<a href=\"https://colab.research.google.com/github/Mahesh1907/Java_Assignment/blob/main/Problem_15.ipynb\" target=\"_parent\"><img src=\"https://colab.research.google.com/assets/colab-badge.svg\" alt=\"Open In Colab\"/></a>"
      ]
    },
    {
      "cell_type": "code",
      "execution_count": null,
      "metadata": {
        "id": "JrCcUEM5hhKl"
      },
      "outputs": [],
      "source": [
        "package java_assignment;\n",
        "import java.util.Random;\n",
        "public class Problem_15 {\n",
        "    public static void main(String[] args) {\n",
        "        String randomAlphaNumeric = generateRandomAlphaNumeric(10);\n",
        "        System.out.println(\"Random AlphaNumeric: \" + randomAlphaNumeric);\n",
        "    }\n",
        "    public static String generateRandomAlphaNumeric(int length) {\n",
        "        String characters = \"ABCDEFGHIJKLMNOPQRSTUVWXYZabcdefghijklmnopqrstuvwxyz0123456789\";\n",
        "        StringBuilder sb = new StringBuilder();\n",
        "        Random random = new Random();\n",
        "        for (int i = 0; i < length; i++) {\n",
        "            int randomIndex = random.nextInt(characters.length());\n",
        "            char randomChar = characters.charAt(randomIndex);\n",
        "            sb.append(randomChar);\n",
        "        }\n",
        "        return sb.toString();\n",
        "    }\n",
        "}"
      ]
    },
    {
      "cell_type": "markdown",
      "source": [
        "***Output:***\n",
        "\n",
        "Random AlphaNumeric: UF6bvyAgVf"
      ],
      "metadata": {
        "id": "eLHqcCAvhkyq"
      }
    }
  ]
}