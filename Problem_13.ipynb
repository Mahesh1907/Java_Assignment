{
  "nbformat": 4,
  "nbformat_minor": 0,
  "metadata": {
    "colab": {
      "provenance": [],
      "authorship_tag": "ABX9TyOS+gHIQJfpCHJ3RqRc615k",
      "include_colab_link": true
    },
    "kernelspec": {
      "name": "python3",
      "display_name": "Python 3"
    },
    "language_info": {
      "name": "python"
    }
  },
  "cells": [
    {
      "cell_type": "markdown",
      "metadata": {
        "id": "view-in-github",
        "colab_type": "text"
      },
      "source": [
        "<a href=\"https://colab.research.google.com/github/Mahesh1907/Java_Assignment/blob/main/Problem_13.ipynb\" target=\"_parent\"><img src=\"https://colab.research.google.com/assets/colab-badge.svg\" alt=\"Open In Colab\"/></a>"
      ]
    },
    {
      "cell_type": "code",
      "execution_count": null,
      "metadata": {
        "id": "ePEqMiHlgscK"
      },
      "outputs": [],
      "source": [
        "package java_assignment;\n",
        "public class Problem_13 {\n",
        "    public static void main(String[] args) {\n",
        "        String str = \"Welcome To Java\";\n",
        "        String reversedString = reverseString(str);\n",
        "        System.out.println(\"Reversed string: \" + reversedString);\n",
        "    }\n",
        "    public static String reverseString(String str) {\n",
        "        StringBuilder reversed = new StringBuilder();\n",
        "        for (int i = str.length() - 1; i >= 0; i--) {\n",
        "            reversed.append(str.charAt(i));\n",
        "        }\n",
        "        return reversed.toString();\n",
        "    }\n",
        "}"
      ]
    },
    {
      "cell_type": "markdown",
      "source": [
        "***Output:***\n",
        "\n",
        "Reversed string: avaJ oT emocleW"
      ],
      "metadata": {
        "id": "YjhayiWegtxO"
      }
    }
  ]
}