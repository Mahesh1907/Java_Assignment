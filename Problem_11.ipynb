{
  "nbformat": 4,
  "nbformat_minor": 0,
  "metadata": {
    "colab": {
      "provenance": [],
      "authorship_tag": "ABX9TyO/+uB7w9/Pw1AP1TA7rc/U",
      "include_colab_link": true
    },
    "kernelspec": {
      "name": "python3",
      "display_name": "Python 3"
    },
    "language_info": {
      "name": "python"
    }
  },
  "cells": [
    {
      "cell_type": "markdown",
      "metadata": {
        "id": "view-in-github",
        "colab_type": "text"
      },
      "source": [
        "<a href=\"https://colab.research.google.com/github/Mahesh1907/Java_Assignment/blob/main/Problem_11.ipynb\" target=\"_parent\"><img src=\"https://colab.research.google.com/assets/colab-badge.svg\" alt=\"Open In Colab\"/></a>"
      ]
    },
    {
      "cell_type": "code",
      "execution_count": null,
      "metadata": {
        "id": "ltXXY7nXfqLP"
      },
      "outputs": [],
      "source": [
        "package java_assignment;\n",
        "import java.util.HashMap;\n",
        "public class Problem_11 {\n",
        "    public static void main(String[] args) {\n",
        "        HashMap<Integer, String> employeeMap = new HashMap<>();\n",
        "        // Add employee names and IDs to the map\n",
        "        employeeMap.put(123, \"Jadeja\");\n",
        "        employeeMap.put(456, \"Smith\");\n",
        "        employeeMap.put(789, \"Johnson\");\n",
        "        // Add more entries as needed\n",
        "        // Retrieve employee name by ID\n",
        "        int empId = 123;\n",
        "        String empName = employeeMap.get(empId);\n",
        "        System.out.println(\"Employee Name for ID \" + empId + \": \" + empName);\n",
        "    }\n",
        "}"
      ]
    },
    {
      "cell_type": "markdown",
      "source": [
        "***Output:***\n",
        "\n",
        "Employee Name for ID 123: Jadeja"
      ],
      "metadata": {
        "id": "Pep9TGfFft6Y"
      }
    }
  ]
}