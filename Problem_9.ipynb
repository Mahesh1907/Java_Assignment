{
  "nbformat": 4,
  "nbformat_minor": 0,
  "metadata": {
    "colab": {
      "provenance": [],
      "authorship_tag": "ABX9TyOaichx8Gf6SWzt7OWVM8+u",
      "include_colab_link": true
    },
    "kernelspec": {
      "name": "python3",
      "display_name": "Python 3"
    },
    "language_info": {
      "name": "python"
    }
  },
  "cells": [
    {
      "cell_type": "markdown",
      "metadata": {
        "id": "view-in-github",
        "colab_type": "text"
      },
      "source": [
        "<a href=\"https://colab.research.google.com/github/Mahesh1907/Java_Assignment/blob/main/Problem_9.ipynb\" target=\"_parent\"><img src=\"https://colab.research.google.com/assets/colab-badge.svg\" alt=\"Open In Colab\"/></a>"
      ]
    },
    {
      "cell_type": "code",
      "execution_count": null,
      "metadata": {
        "id": "c_WfSYABd7bw"
      },
      "outputs": [],
      "source": [
        "package java_assignment;\n",
        "public class Problem_9 {\n",
        "    public static void main(String[] args) {\n",
        "        String str = \"ABCDE12345\";\n",
        "        String numericSubstring = \"\";\n",
        "\n",
        "        for (int i = 0; i < str.length(); i++) {\n",
        "            if (Character.isDigit(str.charAt(i))) {\n",
        "                numericSubstring += str.charAt(i);\n",
        "            }\n",
        "        }\n",
        "        System.out.println(numericSubstring);\n",
        "    }\n",
        "}"
      ]
    },
    {
      "cell_type": "markdown",
      "source": [
        "***Output:***\n",
        "\n",
        "12345"
      ],
      "metadata": {
        "id": "g2NS5ipld9Be"
      }
    }
  ]
}