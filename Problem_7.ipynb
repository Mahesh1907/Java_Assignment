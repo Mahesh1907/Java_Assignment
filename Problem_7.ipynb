{
  "nbformat": 4,
  "nbformat_minor": 0,
  "metadata": {
    "colab": {
      "provenance": [],
      "authorship_tag": "ABX9TyMghNqtKNSusun3mkH0yaLV",
      "include_colab_link": true
    },
    "kernelspec": {
      "name": "python3",
      "display_name": "Python 3"
    },
    "language_info": {
      "name": "python"
    }
  },
  "cells": [
    {
      "cell_type": "markdown",
      "metadata": {
        "id": "view-in-github",
        "colab_type": "text"
      },
      "source": [
        "<a href=\"https://colab.research.google.com/github/Mahesh1907/Java_Assignment/blob/main/Problem_7.ipynb\" target=\"_parent\"><img src=\"https://colab.research.google.com/assets/colab-badge.svg\" alt=\"Open In Colab\"/></a>"
      ]
    },
    {
      "cell_type": "code",
      "source": [
        "package java_assignment;\n",
        "public class Problem_7 {\n",
        "    public static int returnNumber() {\n",
        "        int c = 0;\n",
        "        float a = 7.8f;\n",
        "        float b = 4.4f;\n",
        "        c = Math.round(a)+Math.round(b);\n",
        "        return c;\n",
        "    }\n",
        "    public static void main(String[] args)\n",
        "    {\n",
        "        System.out.println(\"Value of c is \"+returnNumber());\n",
        "    }\n",
        "}"
      ],
      "metadata": {
        "id": "iAcQjQgPkIg8"
      },
      "execution_count": null,
      "outputs": []
    },
    {
      "cell_type": "markdown",
      "source": [
        "***Output:***\n",
        "\n",
        "Value of c is 12"
      ],
      "metadata": {
        "id": "kH-HxkmAkKwq"
      }
    }
  ]
}